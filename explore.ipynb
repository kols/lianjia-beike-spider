{
 "cells": [
  {
   "cell_type": "code",
   "execution_count": null,
   "metadata": {},
   "outputs": [],
   "source": [
    "import pandas as pd\n",
    "import matplotlib.pyplot as plt\n",
    "# pd.show_versions()"
   ]
  },
  {
   "cell_type": "code",
   "execution_count": null,
   "metadata": {},
   "outputs": [],
   "source": [
    "import os\n",
    "\n",
    "\n",
    "def save_fig(fig_id, tight_layout=True, fig_extension=\"png\", resolution=300):\n",
    "    path = os.path.join(\"images\", fig_id + \".\" + fig_extension)\n",
    "    print(\"Saving figure\", fig_id)\n",
    "    if tight_layout:\n",
    "        plt.tight_layout()\n",
    "    plt.savefig(path, format=fig_extension, dpi=resolution)"
   ]
  },
  {
   "cell_type": "code",
   "execution_count": null,
   "metadata": {
    "lines_to_next_cell": 2
   },
   "outputs": [],
   "source": [
    "huamu = pd.read_csv(\"data/ke/xiaoqu/sh/20201020/pudong_huamu.csv\", header=None,\n",
    "        names=[\"date\", \"district\", \"area\", \"neighbour\", \"price\", \"sale_num\"])\n",
    "huamu.head()\n",
    "huamu.info()\n",
    "huamu.describe()"
   ]
  },
  {
   "cell_type": "code",
   "execution_count": null,
   "metadata": {},
   "outputs": [],
   "source": [
    "huamu[\"neighbour\"].value_counts()\n",
    "huamu.hist(bins=50, figsize=(20,15))\n",
    "save_fig(\"huamu\")\n",
    "# plt.show()"
   ]
  },
  {
   "cell_type": "code",
   "execution_count": null,
   "metadata": {
    "title": "ordinal encoder"
   },
   "outputs": [],
   "source": [
    "huamu_nei = huamu[[\"neighbour\"]]\n",
    "huamu_nei.head(10)"
   ]
  },
  {
   "cell_type": "code",
   "execution_count": null,
   "metadata": {
    "title": "onehot encoder"
   },
   "outputs": [],
   "source": [
    "from sklearn.preprocessing import OrdinalEncoder\n",
    "\n",
    "ord_encoder = OrdinalEncoder()\n",
    "huamu_nei_encoded = ord_encoder.fit_transform(huamu_nei)\n",
    "ord_encoder.categories_"
   ]
  },
  {
   "cell_type": "code",
   "execution_count": null,
   "metadata": {
    "title": "onehot encoder"
   },
   "outputs": [],
   "source": [
    "from sklearn.preprocessing import OneHotEncoder\n",
    "\n",
    "one_hot_encoder = OneHotEncoder()\n",
    "huamu_nei_1hot = one_hot_encoder.fit_transform(huamu_nei)\n",
    "huamu_nei_1hot\n",
    "huamu_nei_1hot.toarray()"
   ]
  },
  {
   "cell_type": "code",
   "execution_count": null,
   "metadata": {
    "lines_to_next_cell": 2,
    "title": "price transformer"
   },
   "outputs": [],
   "source": [
    "import numpy as np\n",
    "from pandas import DataFrame\n",
    "from sklearn.base import TransformerMixin\n",
    "from pandas.core.generic import NDFrame\n",
    "\n",
    "\n",
    "class PriceExtractor(TransformerMixin):\n",
    "    def fit(self, X, y=None):\n",
    "        return self\n",
    "\n",
    "    def _extract(self, ele):\n",
    "        try:\n",
    "            price, _ = ele.split(u'元', 1)\n",
    "        except ValueError:\n",
    "            return\n",
    "        if not price:\n",
    "            return\n",
    "        return np.int32(price)\n",
    "\n",
    "    def transform(self, X: NDFrame) -> NDFrame:\n",
    "        res = X.iloc[:, 0].apply(self._extract)\n",
    "        return np.c_[res]"
   ]
  },
  {
   "cell_type": "code",
   "execution_count": null,
   "metadata": {
    "title": "price pipeline"
   },
   "outputs": [],
   "source": [
    "from sklearn.pipeline import Pipeline\n",
    "from sklearn.impute import SimpleImputer\n",
    "from sklearn.preprocessing import StandardScaler\n",
    "\n",
    "price_pipeline = Pipeline([\n",
    "    ('price_extractor', PriceExtractor()),\n",
    "    ('imputer', SimpleImputer(strategy='median')),\n",
    "    ('std_scaler', StandardScaler())\n",
    "    ])\n",
    "\n",
    "price_pipeline.fit_transform(huamu[[\"price\"]])"
   ]
  }
 ],
 "metadata": {
  "jupytext": {
   "cell_metadata_filter": "-all",
   "notebook_metadata_filter": "-all"
  }
 },
 "nbformat": 4,
 "nbformat_minor": 4
}
